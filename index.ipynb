{
 "cells": [
  {
   "cell_type": "code",
   "execution_count": 6,
   "metadata": {},
   "outputs": [],
   "source": [
    "\n",
    "import requests\n",
    "from bs4 import BeautifulSoup\n"
   ]
  },
  {
   "cell_type": "markdown",
   "metadata": {},
   "source": [
    "## First website"
   ]
  },
  {
   "cell_type": "code",
   "execution_count": 11,
   "metadata": {},
   "outputs": [],
   "source": [
    "url =  'http://www.bu.edu/president/boston-university-facts-stats/'\n",
    "\n",
    "\n",
    "# Lets use the requests get method to fetch the data from url\n",
    "response = requests.get(url)"
   ]
  },
  {
   "cell_type": "code",
   "execution_count": 12,
   "metadata": {},
   "outputs": [
    {
     "name": "stdout",
     "output_type": "stream",
     "text": [
      "200\n"
     ]
    }
   ],
   "source": [
    "\n",
    "# lets check the status\n",
    "status = response.status_code\n",
    "print(status) # 200 means the fetching was successful"
   ]
  },
  {
   "cell_type": "code",
   "execution_count": 13,
   "metadata": {},
   "outputs": [],
   "source": [
    "content = response.content # we get all the content from the website\n",
    "soup = BeautifulSoup(content, 'html.parser') # beautiful soup will give a chance to parse"
   ]
  },
  {
   "cell_type": "code",
   "execution_count": 14,
   "metadata": {},
   "outputs": [
    {
     "name": "stdout",
     "output_type": "stream",
     "text": [
      "<title>BU Facts &amp; Stats | Office of the President</title>\n"
     ]
    }
   ],
   "source": [
    "print(soup.title) # we get the page title"
   ]
  },
  {
   "cell_type": "code",
   "execution_count": null,
   "metadata": {},
   "outputs": [],
   "source": [
    "print(soup.body) # gives the whole page on the website"
   ]
  },
  {
   "cell_type": "code",
   "execution_count": null,
   "metadata": {},
   "outputs": [],
   "source": [
    "print(soup.body.get_text()) # we get the body of the page in text "
   ]
  },
  {
   "cell_type": "code",
   "execution_count": null,
   "metadata": {},
   "outputs": [],
   "source": [
    "#finding all the links\n",
    "soup.find_all('a')   # this gives us a list of all the links used in the website page"
   ]
  },
  {
   "cell_type": "code",
   "execution_count": null,
   "metadata": {},
   "outputs": [],
   "source": [
    "#Extracting all the links\n",
    "\n",
    "for link in soup.find_all('a'):\n",
    "    print(link.get('href'))"
   ]
  },
  {
   "cell_type": "code",
   "execution_count": null,
   "metadata": {},
   "outputs": [],
   "source": [
    "#finding all the text\n",
    "results = soup.get_text()\n",
    "\n",
    "#Converting all the text to text format for client\n",
    "file_path = 'results.txt'\n",
    "\n",
    "with open(file_path,'w') as f:\n",
    "    f.write(results)\n",
    "print('done')\n",
    "\n"
   ]
  },
  {
   "cell_type": "markdown",
   "metadata": {},
   "source": [
    "## Second website"
   ]
  },
  {
   "cell_type": "code",
   "execution_count": 22,
   "metadata": {},
   "outputs": [],
   "source": [
    "url = 'https://www.eurosport.com/football/premier-league/2023-2024/crystal-palace-v-tottenham-hotspur-premier-league-live_sto9849249/story.shtml'"
   ]
  },
  {
   "cell_type": "code",
   "execution_count": 23,
   "metadata": {},
   "outputs": [],
   "source": [
    "# Lets use the requests get method to fetch the data from url\n",
    "response = requests.get(url)"
   ]
  },
  {
   "cell_type": "code",
   "execution_count": null,
   "metadata": {},
   "outputs": [],
   "source": [
    "\n",
    "# lets check the status\n",
    "status = response.status_code\n",
    "print(status) # 200 means the fetching was successful"
   ]
  },
  {
   "cell_type": "code",
   "execution_count": 25,
   "metadata": {},
   "outputs": [],
   "source": [
    "content = response.content # we get all the content from the website\n",
    "soup = BeautifulSoup(content, 'html.parser') # beautiful soup will give a chance to parse"
   ]
  },
  {
   "cell_type": "code",
   "execution_count": null,
   "metadata": {},
   "outputs": [],
   "source": [
    "print(soup.title.get_text()) # we get the page title"
   ]
  },
  {
   "cell_type": "code",
   "execution_count": null,
   "metadata": {},
   "outputs": [],
   "source": [
    "print(soup.body.get_text()) # we get the body of the page in text "
   ]
  },
  {
   "cell_type": "code",
   "execution_count": null,
   "metadata": {},
   "outputs": [],
   "source": [
    "#finding all the links\n",
    "soup.find_all('a')   # this gives us a list of all the links used in the website page"
   ]
  },
  {
   "cell_type": "code",
   "execution_count": null,
   "metadata": {},
   "outputs": [],
   "source": [
    "#Extracting all the links\n",
    "\n",
    "for link in soup.find_all('a'):\n",
    "    print(link.get('href'))"
   ]
  },
  {
   "cell_type": "code",
   "execution_count": 31,
   "metadata": {},
   "outputs": [
    {
     "name": "stdout",
     "output_type": "stream",
     "text": [
      "done\n"
     ]
    }
   ],
   "source": [
    "#finding all the text\n",
    "body = soup.get_text()\n",
    "\n",
    "#Converting all the text to text format for client\n",
    "file_path = 'body.json'\n",
    "\n",
    "with open(file_path,'w') as f:\n",
    "    f.write(body)\n",
    "print('done')\n",
    "\n"
   ]
  },
  {
   "cell_type": "code",
   "execution_count": 33,
   "metadata": {},
   "outputs": [],
   "source": [
    "import json\n",
    "\n",
    "#finding all the text\n",
    "body = soup.get_text()\n",
    "\n",
    "#Converting all the text to text format for client\n",
    "file_path = 'body.json'\n",
    "\n",
    "\n",
    "#Converting all the text to text format for client\n",
    "file_path = 'body.json'\n",
    "\n",
    "# Convert the Python dictionary to a JSON object\n",
    "json_data = json.dumps(body)\n",
    "\n",
    "# Save the JSON data to a file\n",
    "with open(\"body.json\", \"w\") as json_file:\n",
    "    json_file.write(json_data)\n"
   ]
  }
 ],
 "metadata": {
  "kernelspec": {
   "display_name": "venv",
   "language": "python",
   "name": "python3"
  },
  "language_info": {
   "codemirror_mode": {
    "name": "ipython",
    "version": 3
   },
   "file_extension": ".py",
   "mimetype": "text/x-python",
   "name": "python",
   "nbconvert_exporter": "python",
   "pygments_lexer": "ipython3",
   "version": "3.10.9"
  }
 },
 "nbformat": 4,
 "nbformat_minor": 2
}
